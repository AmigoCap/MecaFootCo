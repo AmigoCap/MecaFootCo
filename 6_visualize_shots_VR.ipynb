{
 "cells": [
  {
   "cell_type": "markdown",
   "metadata": {},
   "source": [
    "# Shots in VR"
   ]
  },
  {
   "cell_type": "code",
   "execution_count": null,
   "metadata": {},
   "outputs": [],
   "source": [
    "import pickle\n",
    "import pandas as pd\n",
    "import numpy as np\n",
    "import seaborn as sns\n",
    "import matplotlib.pyplot as plt\n",
    "import json\n",
    "\n",
    "dico=pickle.load(open('data/Shots_663','rb'))"
   ]
  },
  {
   "cell_type": "code",
   "execution_count": null,
   "metadata": {},
   "outputs": [],
   "source": [
    "def restructure_data_VR(data):\n",
    "    \n",
    "    \"This function return a dataframe. Each raw is associated with a shot via shot_id and to a time between -3.2 and 0.8 seconds before and after the release if the ball.\"\n",
    "    \n",
    "    ### getting the data ###\n",
    "    TIME=data['TIME_ABSCISSE']\n",
    "    WHO_SHOT=data['WHO_SHOT']\n",
    "    BALL_TRAJECTORIES=data['BALL_TRAJECTORIES']\n",
    "    binaryArray=[]\n",
    "    \n",
    "    ### only the second column because the first one contains if it is a succes or a miss ###\n",
    "    TIME_bis=[]\n",
    "    WHO_SHOT_bis=[]\n",
    "    X_BALL=[]\n",
    "    Y_BALL=[]\n",
    "    Z_BALL=[]\n",
    "    SUCCESS=[]\n",
    "    SHOT_ID=[]\n",
    "    \n",
    "    for k in range(len(TIME)):\n",
    "        unique,count=np.unique(np.array(TIME[k][1]).round(2), return_counts=True)\n",
    "        if list(count)==[1]*len(count): # we don't take shots where values of time are repeated, because in the data, sometimes the values of time doesn't change so stay on the same second but we count the evolution on this second\n",
    "            binary_array.append(k)\n",
    "            binary_array.append(len(TIME[k][1]))\n",
    "            binary_array.append(TIME[k][0])\n",
    "            binary_array.append(WHO_SHOT[k])\n",
    "            for i in range(len(TIME[k][1])):\n",
    "                binary_array.append(round(TIME[k][1][i],2))\n",
    "                binary_array.append(BALL_TRAJECTORIES[k][0][i])\n",
    "                binary_array.append(BALL_TRAJECTORIES[k][1][i])\n",
    "                binary_array.append(BALL_TRAJECTORIES[k][2][i])\n",
    "    \n",
    "    return(binary_array)\n",
    "\n",
    "binary_array=restructure_data_VR(dico)"
   ]
  },
  {
   "cell_type": "code",
   "execution_count": null,
   "metadata": {},
   "outputs": [],
   "source": [
    "f = open('da', 'w+b')\n",
    "byte_arr = [120, 3, 255, 0, 100]\n",
    "binary_format = bytearray(byte_arr)\n",
    "f.write(binary_format)\n",
    "f.close()"
   ]
  }
 ],
 "metadata": {
  "kernelspec": {
   "display_name": "Python 3",
   "language": "python",
   "name": "python3"
  },
  "language_info": {
   "codemirror_mode": {
    "name": "ipython",
    "version": 3
   },
   "file_extension": ".py",
   "mimetype": "text/x-python",
   "name": "python",
   "nbconvert_exporter": "python",
   "pygments_lexer": "ipython3",
   "version": "3.7.4"
  }
 },
 "nbformat": 4,
 "nbformat_minor": 2
}

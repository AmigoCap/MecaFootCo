{
 "cells": [
  {
   "cell_type": "markdown",
   "metadata": {},
   "source": [
    "# Time model \n",
    "\n",
    "The court is cut into different cell. For each cell, we would like to know the closest player taking into account inertia. Mathematical development are avalaible in the file *Closest_player_to_a_point*. Here we the results of this model, particularly, how visually we can see that it takes inertia into account"
   ]
  },
  {
   "cell_type": "code",
   "execution_count": 4,
   "metadata": {},
   "outputs": [],
   "source": [
    "import numpy as np\n",
    "import matplotlib.pyplot as plt\n",
    "import math as m\n",
    "import json\n",
    "from data_extracter import json_extracter\n",
    "\n",
    "data,events=json_extracter('data/game1.json')"
   ]
  },
  {
   "cell_type": "markdown",
   "metadata": {},
   "source": [
    "## Function Time_to_point\n",
    "This function returns the time required to go from point a to point b with initial speed v. F is the value of the force granted to a player (per unit of mass). A previous investigation has told that F should be closed to 10m/s [1]."
   ]
  },
  {
   "cell_type": "code",
   "execution_count": 1,
   "metadata": {
    "collapsed": true
   },
   "outputs": [],
   "source": [
    "def time_to_point(a,b,v,F=10*3.28):   \n",
    "    \"time to go from a to b with initial speed v, F is the force parameter in feet/s-2\"\n",
    "    x0,y0=a\n",
    "    xf,yf=b\n",
    "    X=x0-xf\n",
    "    Y=y0-yf\n",
    "    k4=1\n",
    "    k3=0\n",
    "    k2=4*(v[0]**2+v[1]**2)/F**2\n",
    "    k1=8*(v[0]*X+v[1]*Y)/F**2\n",
    "    k0=4*(X**2+Y**2)/F**2\n",
    "    times=np.roots([k4,k3,-k2,-k1,-k0])\n",
    "    for i in range(4):                      # Selection of the root real and positive\n",
    "        if times[i].imag==0:\n",
    "            if times[i]>0:\n",
    "                return times[i].real\n",
    "    print('error')\n",
    "    return times[0]"
   ]
  },
  {
   "cell_type": "markdown",
   "metadata": {},
   "source": [
    "## Example of trajectories with our model\n",
    "\n",
    "The black arrow represents the force and the green arrow the initial speed. "
   ]
  },
  {
   "cell_type": "code",
   "execution_count": 28,
   "metadata": {
    "collapsed": true
   },
   "outputs": [],
   "source": [
    "def print_path(a,b,v,F=10*3.28):\n",
    "    tf=time_to_point(a,b,v)\n",
    "    Fx=2*(b[0]-a[0]-v[0]*tf)/tf**2\n",
    "    Fy=2*(b[1]-a[1]-v[1]*tf)/tf**2\n",
    "    nb_points=100\n",
    "    dt=tf/nb_points\n",
    "    t=dt\n",
    "    lx=[a[0]]\n",
    "    ly=[a[1]]\n",
    "    for i in range(nb_points+2):\n",
    "        x=a[0]+v[0]*t+Fx*t**2/2\n",
    "        y=a[1]+v[1]*t+Fy*t**2/2\n",
    "        lx.append(x)\n",
    "        ly.append(y)\n",
    "        t=t+dt\n",
    "    print(tf)\n",
    "    plt.plot(lx,ly)\n",
    "    plt.plot(a[0],a[1], 'ro')\n",
    "    plt.plot(b[0],b[1], 'bo')\n",
    "    plt.arrow(a[0],a[1],Fx/10,Fy/10,shape='full',lw=1.5,head_width=0.2)\n",
    "    plt.arrow(a[0],a[1],v[0],v[1],shape='full',lw=1.5,head_width=0.2, color='g')\n",
    "    plt.xlim(min(v[0],Fx/10,0)-2,max(v[0],Fx/10,0)+2)\n",
    "    plt.ylim(min(v[1],Fy/10,0)-2,max(v[1],Fy/10,0)+2)\n",
    "    plt.show()"
   ]
  },
  {
   "cell_type": "code",
   "execution_count": 31,
   "metadata": {},
   "outputs": [
    {
     "name": "stdout",
     "output_type": "stream",
     "text": [
      "0.574855242708\n"
     ]
    },
    {
     "data": {
      "image/png": "[encoded data removed]",
      "text/plain": [
       "<matplotlib.figure.Figure at 0x119a23748>"
      ]
     },
     "metadata": {},
     "output_type": "display_data"
    },
    {
     "name": "stdout",
     "output_type": "stream",
     "text": [
      "0.771815714358\n"
     ]
    },
    {
     "data": {
      "image/png": "[encoded data removed]",
      "text/plain": [
       "<matplotlib.figure.Figure at 0x119c35588>"
      ]
     },
     "metadata": {},
     "output_type": "display_data"
    }
   ],
   "source": [
    "plt.subplots()\n",
    "print_path(np.array([0,0]),np.array([1,2]),np.array([-4,-4]))\n",
    "print_path(np.array([0,0]),np.array([1,2]),np.array([0,-10]))"
   ]
  },
  {
   "cell_type": "markdown",
   "metadata": {},
   "source": [
    "## Comparing our trajectories to real ones\n",
    "\n",
    "The aim is to adjust the value of F. We take the position $a$ of a player at a time t. We look where he is (point $b$) at the time t+$\\Delta$t and the trajectory he made during $\\Delta$t. With our model, we compute the trajectory to go from $a$ to $b$ and look at the difference between both trajectories. We iterate several time and we do this for several value of F. Then, we can adjust our F value to the one that leads to less errors."
   ]
  },
  {
   "cell_type": "markdown",
   "metadata": {},
   "source": [
    "## Sources \n",
    "[1] Akira Fujimura and Kokichi Sugihara. Geo- metric analysis and quantitative evaluation of sport teamwork. *Systems and Computers in Japan*, 36(6):49–58, 2005."
   ]
  },
  {
   "cell_type": "code",
   "execution_count": null,
   "metadata": {
    "collapsed": true
   },
   "outputs": [],
   "source": []
  }
 ],
 "metadata": {
  "kernelspec": {
   "display_name": "Python 3",
   "language": "python",
   "name": "python3"
  },
  "language_info": {
   "codemirror_mode": {
    "name": "ipython",
    "version": 3
   },
   "file_extension": ".py",
   "mimetype": "text/x-python",
   "name": "python",
   "nbconvert_exporter": "python",
   "pygments_lexer": "ipython3",
   "version": "3.6.1"
  }
 },
 "nbformat": 4,
 "nbformat_minor": 2
}

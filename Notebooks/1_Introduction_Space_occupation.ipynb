{
 "cells": [
  {
   "cell_type": "markdown",
   "metadata": {},
   "source": [
    "# Introducing space occupation \n",
    "\n",
    "We focus on the space occupation of basketball court by players. We'd like to know how we can quantify the occupation and how we can visualize this occupation of the court.\n",
    "\n",
    "## Voronoi cutting\n",
    "----\n",
    "\n",
    "First, we can use Voronoi diagram to partitionate the court into cells which belong to a unique player."
   ]
  },
  {
   "cell_type": "code",
   "execution_count": 1,
   "metadata": {
    "collapsed": true
   },
   "outputs": [],
   "source": [
    "from data_extracter import json_extracter\n",
    "data,events=json_extracter()"
   ]
  },
  {
   "cell_type": "code",
   "execution_count": null,
   "metadata": {
    "collapsed": true
   },
   "outputs": [],
   "source": []
  }
 ],
 "metadata": {
  "kernelspec": {
   "display_name": "Python 3",
   "language": "python",
   "name": "python3"
  },
  "language_info": {
   "codemirror_mode": {
    "name": "ipython",
    "version": 3
   },
   "file_extension": ".py",
   "mimetype": "text/x-python",
   "name": "python",
   "nbconvert_exporter": "python",
   "pygments_lexer": "ipython3",
   "version": "3.6.1"
  }
 },
 "nbformat": 4,
 "nbformat_minor": 2
}

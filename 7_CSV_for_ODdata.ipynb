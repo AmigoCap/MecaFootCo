{
 "cells": [
  {
   "cell_type": "code",
   "execution_count": 8,
   "metadata": {},
   "outputs": [],
   "source": [
    "import pandas as pd\n",
    "import ast\n",
    "\n",
    "df_shots=pd.read_csv('data/df_shots.csv',index_col=[0],converters={1:ast.literal_eval,2:ast.literal_eval,3:ast.literal_eval,7:ast.literal_eval,8:ast.literal_eval,9:ast.literal_eval,18:ast.literal_eval,19:ast.literal_eval,20:ast.literal_eval,25:ast.literal_eval,26:ast.literal_eval})"
   ]
  },
  {
   "cell_type": "code",
   "execution_count": 4,
   "metadata": {},
   "outputs": [
    {
     "data": {
      "text/plain": [
       "Index(['D', 'T', 'Time', 'Time_to_shoot', 'Shot_result', 'player_id', 'x_ball',\n",
       "       'y_ball', 'z_ball', 'x_shooter', 'y_shooter', 'quarter', 'clock',\n",
       "       'Match_id', 'shot_id', 'Shot_type', 'nb_def', 'shooter_pos', 'opp_pos',\n",
       "       'd_basket', 'angle', 'release_moment', 'shot_duration', 'release_time',\n",
       "       'opp_position_release', 'player_position_release', 'btpl'],\n",
       "      dtype='object')"
      ]
     },
     "execution_count": 4,
     "metadata": {},
     "output_type": "execute_result"
    }
   ],
   "source": [
    "df_shots.columns"
   ]
  },
  {
   "cell_type": "code",
   "execution_count": 50,
   "metadata": {},
   "outputs": [],
   "source": [
    "df_odd_data=df_shots[['Match_id']]"
   ]
  },
  {
   "cell_type": "code",
   "execution_count": 51,
   "metadata": {},
   "outputs": [
    {
     "name": "stderr",
     "output_type": "stream",
     "text": [
      "/Users/gabin/opt/anaconda3/lib/python3.7/site-packages/ipykernel_launcher.py:14: SettingWithCopyWarning: \n",
      "A value is trying to be set on a copy of a slice from a DataFrame.\n",
      "Try using .loc[row_indexer,col_indexer] = value instead\n",
      "\n",
      "See the caveats in the documentation: http://pandas.pydata.org/pandas-docs/stable/user_guide/indexing.html#returning-a-view-versus-a-copy\n",
      "  \n",
      "/Users/gabin/opt/anaconda3/lib/python3.7/site-packages/ipykernel_launcher.py:15: SettingWithCopyWarning: \n",
      "A value is trying to be set on a copy of a slice from a DataFrame.\n",
      "Try using .loc[row_indexer,col_indexer] = value instead\n",
      "\n",
      "See the caveats in the documentation: http://pandas.pydata.org/pandas-docs/stable/user_guide/indexing.html#returning-a-view-versus-a-copy\n",
      "  from ipykernel import kernelapp as app\n",
      "/Users/gabin/opt/anaconda3/lib/python3.7/site-packages/ipykernel_launcher.py:16: SettingWithCopyWarning: \n",
      "A value is trying to be set on a copy of a slice from a DataFrame.\n",
      "Try using .loc[row_indexer,col_indexer] = value instead\n",
      "\n",
      "See the caveats in the documentation: http://pandas.pydata.org/pandas-docs/stable/user_guide/indexing.html#returning-a-view-versus-a-copy\n",
      "  app.launch_new_instance()\n",
      "/Users/gabin/opt/anaconda3/lib/python3.7/site-packages/ipykernel_launcher.py:17: SettingWithCopyWarning: \n",
      "A value is trying to be set on a copy of a slice from a DataFrame.\n",
      "Try using .loc[row_indexer,col_indexer] = value instead\n",
      "\n",
      "See the caveats in the documentation: http://pandas.pydata.org/pandas-docs/stable/user_guide/indexing.html#returning-a-view-versus-a-copy\n"
     ]
    }
   ],
   "source": [
    "def x_shooter(row):\n",
    "    return(row['player_position_release'][0])\n",
    "\n",
    "def y_shooter(row):\n",
    "    return(row['player_position_release'][1])\n",
    "\n",
    "def x_opp(row):\n",
    "    return(row['opp_position_release'][0])\n",
    "\n",
    "def y_opp(row):\n",
    "    return(row['opp_position_release'][1])\n",
    "\n",
    "\n",
    "df_odd_data['x1']=df_shots.apply(x_shooter,axis=1)\n",
    "df_odd_data['y1']=df_shots.apply(y_shooter,axis=1)\n",
    "df_odd_data['x2']=df_shots.apply(x_opp,axis=1)\n",
    "df_odd_data['y2']=df_shots.apply(y_opp,axis=1)"
   ]
  },
  {
   "cell_type": "code",
   "execution_count": 52,
   "metadata": {},
   "outputs": [],
   "source": [
    "players=pd.read_csv('data/players.csv',index_col=[0])"
   ]
  },
  {
   "cell_type": "code",
   "execution_count": 53,
   "metadata": {},
   "outputs": [],
   "source": [
    "def player(row,players):\n",
    "    return(players.loc[row['player_id'],'lastName'])"
   ]
  },
  {
   "cell_type": "code",
   "execution_count": 54,
   "metadata": {},
   "outputs": [
    {
     "name": "stderr",
     "output_type": "stream",
     "text": [
      "/Users/gabin/opt/anaconda3/lib/python3.7/site-packages/ipykernel_launcher.py:1: SettingWithCopyWarning: \n",
      "A value is trying to be set on a copy of a slice from a DataFrame.\n",
      "Try using .loc[row_indexer,col_indexer] = value instead\n",
      "\n",
      "See the caveats in the documentation: http://pandas.pydata.org/pandas-docs/stable/user_guide/indexing.html#returning-a-view-versus-a-copy\n",
      "  \"\"\"Entry point for launching an IPython kernel.\n"
     ]
    }
   ],
   "source": [
    "df_odd_data['player']=df_shots.apply(player,players=players,axis=1)"
   ]
  },
  {
   "cell_type": "code",
   "execution_count": 55,
   "metadata": {},
   "outputs": [
    {
     "name": "stderr",
     "output_type": "stream",
     "text": [
      "/Users/gabin/opt/anaconda3/lib/python3.7/site-packages/ipykernel_launcher.py:6: SettingWithCopyWarning: \n",
      "A value is trying to be set on a copy of a slice from a DataFrame.\n",
      "Try using .loc[row_indexer,col_indexer] = value instead\n",
      "\n",
      "See the caveats in the documentation: http://pandas.pydata.org/pandas-docs/stable/user_guide/indexing.html#returning-a-view-versus-a-copy\n",
      "  \n"
     ]
    }
   ],
   "source": [
    "#def shot_result(row):\n",
    "#    if row['Shot_result']==1:\n",
    "#        return('Hit')\n",
    "#    else :\n",
    "#        return('Miss')\n",
    "df_odd_data['shot_result']=df_shots['Shot_result']"
   ]
  },
  {
   "cell_type": "code",
   "execution_count": 56,
   "metadata": {},
   "outputs": [
    {
     "data": {
      "text/html": [
       "<div>\n",
       "<style scoped>\n",
       "    .dataframe tbody tr th:only-of-type {\n",
       "        vertical-align: middle;\n",
       "    }\n",
       "\n",
       "    .dataframe tbody tr th {\n",
       "        vertical-align: top;\n",
       "    }\n",
       "\n",
       "    .dataframe thead th {\n",
       "        text-align: right;\n",
       "    }\n",
       "</style>\n",
       "<table border=\"1\" class=\"dataframe\">\n",
       "  <thead>\n",
       "    <tr style=\"text-align: right;\">\n",
       "      <th></th>\n",
       "      <th>Match_id</th>\n",
       "      <th>x1</th>\n",
       "      <th>y1</th>\n",
       "      <th>x2</th>\n",
       "      <th>y2</th>\n",
       "      <th>player</th>\n",
       "      <th>shot_result</th>\n",
       "    </tr>\n",
       "  </thead>\n",
       "  <tbody>\n",
       "    <tr>\n",
       "      <td>0</td>\n",
       "      <td>1</td>\n",
       "      <td>30.09516</td>\n",
       "      <td>27.81095</td>\n",
       "      <td>26.15986</td>\n",
       "      <td>21.84273</td>\n",
       "      <td>Jackson</td>\n",
       "      <td>1</td>\n",
       "    </tr>\n",
       "    <tr>\n",
       "      <td>1</td>\n",
       "      <td>1</td>\n",
       "      <td>31.23315</td>\n",
       "      <td>30.97594</td>\n",
       "      <td>25.89148</td>\n",
       "      <td>36.26039</td>\n",
       "      <td>Jackson</td>\n",
       "      <td>0</td>\n",
       "    </tr>\n",
       "    <tr>\n",
       "      <td>2</td>\n",
       "      <td>1</td>\n",
       "      <td>29.46224</td>\n",
       "      <td>20.37734</td>\n",
       "      <td>22.76350</td>\n",
       "      <td>20.60149</td>\n",
       "      <td>Ilyasova</td>\n",
       "      <td>1</td>\n",
       "    </tr>\n",
       "    <tr>\n",
       "      <td>3</td>\n",
       "      <td>1</td>\n",
       "      <td>88.38494</td>\n",
       "      <td>46.71738</td>\n",
       "      <td>86.02956</td>\n",
       "      <td>31.94431</td>\n",
       "      <td>Sefolosha</td>\n",
       "      <td>0</td>\n",
       "    </tr>\n",
       "    <tr>\n",
       "      <td>4</td>\n",
       "      <td>1</td>\n",
       "      <td>12.72408</td>\n",
       "      <td>47.59182</td>\n",
       "      <td>10.43531</td>\n",
       "      <td>41.02949</td>\n",
       "      <td>Caldwell-Pope</td>\n",
       "      <td>1</td>\n",
       "    </tr>\n",
       "    <tr>\n",
       "      <td>...</td>\n",
       "      <td>...</td>\n",
       "      <td>...</td>\n",
       "      <td>...</td>\n",
       "      <td>...</td>\n",
       "      <td>...</td>\n",
       "      <td>...</td>\n",
       "      <td>...</td>\n",
       "    </tr>\n",
       "    <tr>\n",
       "      <td>28044</td>\n",
       "      <td>663</td>\n",
       "      <td>4.64662</td>\n",
       "      <td>47.92959</td>\n",
       "      <td>4.79107</td>\n",
       "      <td>35.45871</td>\n",
       "      <td>Hill</td>\n",
       "      <td>0</td>\n",
       "    </tr>\n",
       "    <tr>\n",
       "      <td>28045</td>\n",
       "      <td>663</td>\n",
       "      <td>7.07508</td>\n",
       "      <td>2.27135</td>\n",
       "      <td>7.76655</td>\n",
       "      <td>7.24901</td>\n",
       "      <td>George</td>\n",
       "      <td>1</td>\n",
       "    </tr>\n",
       "    <tr>\n",
       "      <td>28046</td>\n",
       "      <td>663</td>\n",
       "      <td>9.04939</td>\n",
       "      <td>47.78200</td>\n",
       "      <td>9.70525</td>\n",
       "      <td>45.19768</td>\n",
       "      <td>Ellis</td>\n",
       "      <td>0</td>\n",
       "    </tr>\n",
       "    <tr>\n",
       "      <td>28048</td>\n",
       "      <td>663</td>\n",
       "      <td>29.70152</td>\n",
       "      <td>19.83414</td>\n",
       "      <td>20.75211</td>\n",
       "      <td>18.99809</td>\n",
       "      <td>Turner</td>\n",
       "      <td>0</td>\n",
       "    </tr>\n",
       "    <tr>\n",
       "      <td>28049</td>\n",
       "      <td>663</td>\n",
       "      <td>26.31229</td>\n",
       "      <td>8.11048</td>\n",
       "      <td>26.87156</td>\n",
       "      <td>13.10000</td>\n",
       "      <td>Hill</td>\n",
       "      <td>1</td>\n",
       "    </tr>\n",
       "  </tbody>\n",
       "</table>\n",
       "<p>26332 rows × 7 columns</p>\n",
       "</div>"
      ],
      "text/plain": [
       "       Match_id        x1        y1        x2        y2         player  \\\n",
       "0             1  30.09516  27.81095  26.15986  21.84273        Jackson   \n",
       "1             1  31.23315  30.97594  25.89148  36.26039        Jackson   \n",
       "2             1  29.46224  20.37734  22.76350  20.60149       Ilyasova   \n",
       "3             1  88.38494  46.71738  86.02956  31.94431      Sefolosha   \n",
       "4             1  12.72408  47.59182  10.43531  41.02949  Caldwell-Pope   \n",
       "...         ...       ...       ...       ...       ...            ...   \n",
       "28044       663   4.64662  47.92959   4.79107  35.45871           Hill   \n",
       "28045       663   7.07508   2.27135   7.76655   7.24901         George   \n",
       "28046       663   9.04939  47.78200   9.70525  45.19768          Ellis   \n",
       "28048       663  29.70152  19.83414  20.75211  18.99809         Turner   \n",
       "28049       663  26.31229   8.11048  26.87156  13.10000           Hill   \n",
       "\n",
       "       shot_result  \n",
       "0                1  \n",
       "1                0  \n",
       "2                1  \n",
       "3                0  \n",
       "4                1  \n",
       "...            ...  \n",
       "28044            0  \n",
       "28045            1  \n",
       "28046            0  \n",
       "28048            0  \n",
       "28049            1  \n",
       "\n",
       "[26332 rows x 7 columns]"
      ]
     },
     "execution_count": 56,
     "metadata": {},
     "output_type": "execute_result"
    }
   ],
   "source": [
    "df_odd_data"
   ]
  },
  {
   "cell_type": "code",
   "execution_count": 57,
   "metadata": {},
   "outputs": [
    {
     "name": "stderr",
     "output_type": "stream",
     "text": [
      "/Users/gabin/opt/anaconda3/lib/python3.7/site-packages/ipykernel_launcher.py:4: SettingWithCopyWarning: \n",
      "A value is trying to be set on a copy of a slice from a DataFrame.\n",
      "Try using .loc[row_indexer,col_indexer] = value instead\n",
      "\n",
      "See the caveats in the documentation: http://pandas.pydata.org/pandas-docs/stable/user_guide/indexing.html#returning-a-view-versus-a-copy\n",
      "  after removing the cwd from sys.path.\n"
     ]
    }
   ],
   "source": [
    "def time(row):\n",
    "    return(720-row['clock']+720*(row['quarter']-1))\n",
    "\n",
    "df_odd_data['time']=df_shots.apply(time,axis=1)"
   ]
  },
  {
   "cell_type": "code",
   "execution_count": 58,
   "metadata": {},
   "outputs": [],
   "source": [
    "df_odd_data.to_csv('/Users/gabin/Ordinateur/Documents/CENTRALE_LYON_1A/PaR/Oddata/data/nba_three_points.csv', sep=',', encoding='utf-8')"
   ]
  },
  {
   "cell_type": "code",
   "execution_count": null,
   "metadata": {},
   "outputs": [],
   "source": []
  }
 ],
 "metadata": {
  "kernelspec": {
   "display_name": "Python 3",
   "language": "python",
   "name": "python3"
  },
  "language_info": {
   "codemirror_mode": {
    "name": "ipython",
    "version": 3
   },
   "file_extension": ".py",
   "mimetype": "text/x-python",
   "name": "python",
   "nbconvert_exporter": "python",
   "pygments_lexer": "ipython3",
   "version": "3.7.4"
  }
 },
 "nbformat": 4,
 "nbformat_minor": 2
}
